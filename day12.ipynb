{
 "cells": [
  {
   "cell_type": "code",
   "execution_count": 103,
   "metadata": {
    "scrolled": false
   },
   "outputs": [
    {
     "name": "stdout",
     "output_type": "stream",
     "text": [
      "3120\n"
     ]
    }
   ],
   "source": [
    "from collections import defaultdict\n",
    "import utils\n",
    "\n",
    "data = utils.read_lines('day12_input.txt')\n",
    "\n",
    "initial_state = data[0].rstrip().split(' ')[2]\n",
    "rules_raw = data[2:]\n",
    "\n",
    "pots = defaultdict(bool)\n",
    "for i, c in enumerate(initial_state):\n",
    "    pots[i] = True if c == '#' else False\n",
    "    \n",
    "rules = {}\n",
    "for r in rules_raw:\n",
    "    r = r.rstrip().split()\n",
    "    cur_state = tuple([c[0] == '#' for c in r[0]])\n",
    "    next_state = r[2] == '#'\n",
    "    rules[cur_state] = next_state\n",
    "\n",
    "for i in range(20):\n",
    "    min_pots = min(pots)\n",
    "    max_pots = max(pots)\n",
    "    for i in range(min_pots-4, min_pots):\n",
    "        pots[i] = False\n",
    "    for i in range(max_pots+1, max_pots+5):\n",
    "        pots[i] = False\n",
    "    new_pots = pots.copy()\n",
    "    for pot in range(min_pots, max_pots+3):\n",
    "        new_pots[pot] = rules[(pots[pot-2], pots[pot-1], pots[pot], pots[pot+1], pots[pot+2])] if \\\n",
    "        (pots[pot-2], pots[pot-1], pots[pot], pots[pot+1], pots[pot+2]) in rules else False\n",
    "    pots = new_pots.copy()\n",
    "\n",
    "pots_sum = 0\n",
    "for p in pots:\n",
    "    pots_sum = pots_sum + p if pots[p] else pots_sum\n",
    "        \n",
    "print(pots_sum)"
   ]
  },
  {
   "cell_type": "markdown",
   "metadata": {},
   "source": [
    "pots_sum increases by 59 for every generation from 101 on\n",
    "\n",
    "value on generation 101 is 7557"
   ]
  },
  {
   "cell_type": "code",
   "execution_count": 104,
   "metadata": {},
   "outputs": [
    {
     "name": "stdout",
     "output_type": "stream",
     "text": [
      "2950000001598\n"
     ]
    }
   ],
   "source": [
    "print(7557 + ((50000000000-101)*59))"
   ]
  },
  {
   "cell_type": "code",
   "execution_count": null,
   "metadata": {},
   "outputs": [],
   "source": []
  }
 ],
 "metadata": {
  "kernelspec": {
   "display_name": "Python 3",
   "language": "python",
   "name": "python3"
  },
  "language_info": {
   "codemirror_mode": {
    "name": "ipython",
    "version": 3
   },
   "file_extension": ".py",
   "mimetype": "text/x-python",
   "name": "python",
   "nbconvert_exporter": "python",
   "pygments_lexer": "ipython3",
   "version": "3.6.5"
  }
 },
 "nbformat": 4,
 "nbformat_minor": 2
}
