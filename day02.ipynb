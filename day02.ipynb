{
 "cells": [
  {
   "cell_type": "code",
   "execution_count": 7,
   "metadata": {},
   "outputs": [
    {
     "name": "stdout",
     "output_type": "stream",
     "text": [
      "4940\n"
     ]
    }
   ],
   "source": [
    "import collections\n",
    "import utils\n",
    "\n",
    "data = utils.read_lines('day02_input.txt')\n",
    "\n",
    "factor2 = 0\n",
    "factor3 = 0\n",
    "\n",
    "for box_ID in data:\n",
    "    letters = collections.Counter(box_ID)\n",
    "    if 2 in letters.values():\n",
    "        factor2 += 1\n",
    "    if 3 in letters.values():\n",
    "        factor3 += 1\n",
    "        \n",
    "print(factor2 * factor3)"
   ]
  },
  {
   "cell_type": "code",
   "execution_count": 11,
   "metadata": {},
   "outputs": [
    {
     "name": "stdout",
     "output_type": "stream",
     "text": [
      "wrziyfdmlumeqvaatbiosngkc\n",
      "\n"
     ]
    }
   ],
   "source": [
    "import itertools\n",
    "\n",
    "for box_ID1, box_ID2 in itertools.combinations(data, 2):\n",
    "        diff = 0\n",
    "        for c1, c2 in zip(box_ID1, box_ID2):\n",
    "            if c1 != c2:\n",
    "                diff += 1\n",
    "        if diff == 1:\n",
    "            print(''.join([c1 for c1, c2 in zip(box_ID1, box_ID2) if c1 == c2]))\n",
    "            break"
   ]
  },
  {
   "cell_type": "code",
   "execution_count": null,
   "metadata": {},
   "outputs": [],
   "source": []
  }
 ],
 "metadata": {
  "kernelspec": {
   "display_name": "Python 3",
   "language": "python",
   "name": "python3"
  },
  "language_info": {
   "codemirror_mode": {
    "name": "ipython",
    "version": 3
   },
   "file_extension": ".py",
   "mimetype": "text/x-python",
   "name": "python",
   "nbconvert_exporter": "python",
   "pygments_lexer": "ipython3",
   "version": "3.6.5"
  }
 },
 "nbformat": 4,
 "nbformat_minor": 2
}
