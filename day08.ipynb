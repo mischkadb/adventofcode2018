{
 "cells": [
  {
   "cell_type": "code",
   "execution_count": 52,
   "metadata": {},
   "outputs": [
    {
     "name": "stdout",
     "output_type": "stream",
     "text": [
      "47244\n",
      "17267\n"
     ]
    }
   ],
   "source": [
    "import utils\n",
    "\n",
    "data = utils.read_line('day08_input.txt')\n",
    "\n",
    "data = list(map(int, data.split()))\n",
    "    \n",
    "def get_subtree_metadata_sum(data):\n",
    "    children, metadata = data[:2]\n",
    "    data = data[2:]\n",
    "    metadata_sum = 0\n",
    "    \n",
    "    if children == 0:\n",
    "        metadata_sum = sum(data[:metadata])\n",
    "        data = data[metadata:]\n",
    "        return (metadata_sum, data, metadata_sum)\n",
    "    else:\n",
    "        values = []\n",
    "        for _ in range(children):            \n",
    "            children_sum, data, children_value = get_subtree_metadata_sum(data)\n",
    "            metadata_sum += children_sum\n",
    "            values.append(children_value)\n",
    "        metadata_sum += sum(data[:metadata])\n",
    "        value = 0\n",
    "        for i in data[:metadata]:\n",
    "            if i-1 < len(values):\n",
    "                value += values[i-1]\n",
    "        data = data[metadata:]\n",
    "        return (metadata_sum, data, value)\n",
    "        \n",
    "children_sum, _, children_value = get_subtree_metadata_sum(data)  \n",
    "print(children_sum)\n",
    "print(children_value)"
   ]
  },
  {
   "cell_type": "code",
   "execution_count": null,
   "metadata": {},
   "outputs": [],
   "source": []
  },
  {
   "cell_type": "code",
   "execution_count": null,
   "metadata": {},
   "outputs": [],
   "source": []
  },
  {
   "cell_type": "code",
   "execution_count": null,
   "metadata": {},
   "outputs": [],
   "source": []
  }
 ],
 "metadata": {
  "kernelspec": {
   "display_name": "Python 3",
   "language": "python",
   "name": "python3"
  },
  "language_info": {
   "codemirror_mode": {
    "name": "ipython",
    "version": 3
   },
   "file_extension": ".py",
   "mimetype": "text/x-python",
   "name": "python",
   "nbconvert_exporter": "python",
   "pygments_lexer": "ipython3",
   "version": "3.6.5"
  }
 },
 "nbformat": 4,
 "nbformat_minor": 2
}
