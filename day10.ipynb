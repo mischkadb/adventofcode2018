{
 "cells": [
  {
   "cell_type": "code",
   "execution_count": 63,
   "metadata": {
    "scrolled": false
   },
   "outputs": [
    {
     "name": "stdout",
     "output_type": "stream",
     "text": [
      "70 10905\n"
     ]
    }
   ],
   "source": [
    "import utils\n",
    "import numpy as np\n",
    "import re\n",
    "import sys\n",
    "\n",
    "data = utils.read_lines('day10_input.txt')\n",
    "points = []\n",
    "\n",
    "for line in data:\n",
    "    points.append(list(map(int, re.findall(r'\\-?\\d+', line))))\n",
    "    \n",
    "min_diff = sys.maxsize\n",
    "min_i = 0\n",
    "\n",
    "for i in range(8000, 12000):\n",
    "    max_x = max(x+i*vx for (x, _, vx, _) in points)\n",
    "    max_y = max(y+i*vy for (_, y, _, vy) in points)\n",
    "    min_x = min(x+i*vx for (x, _, vx, _) in points)\n",
    "    min_y = min(y+i*vy for (_, y, _, vy) in points)\n",
    "    if (max_x - min_x + max_y - min_y) < min_diff:\n",
    "        min_diff = max_x - min_x + max_y - min_y\n",
    "        min_i = i\n",
    "        \n",
    "print(min_diff, min_i)"
   ]
  },
  {
   "cell_type": "code",
   "execution_count": 64,
   "metadata": {},
   "outputs": [
    {
     "data": {
      "image/png": "[encoded data removed]",
      "text/plain": [
       "<Figure size 432x288 with 1 Axes>"
      ]
     },
     "metadata": {},
     "output_type": "display_data"
    }
   ],
   "source": [
    "import matplotlib.pyplot as plt\n",
    "\n",
    "grid = np.zeros((max(x+min_i*vx for (x, _, vx, _) in points)+1, max(y+min_i*vy for (_, y, _, vy) in points)+1))\n",
    "\n",
    "for point in points:\n",
    "    grid[point[0]+min_i*point[2], point[1]+min_i*point[3]] = 1\n",
    "plt.imshow(grid.T)\n",
    "plt.show()"
   ]
  },
  {
   "cell_type": "code",
   "execution_count": null,
   "metadata": {},
   "outputs": [],
   "source": []
  }
 ],
 "metadata": {
  "kernelspec": {
   "display_name": "Python 3",
   "language": "python",
   "name": "python3"
  },
  "language_info": {
   "codemirror_mode": {
    "name": "ipython",
    "version": 3
   },
   "file_extension": ".py",
   "mimetype": "text/x-python",
   "name": "python",
   "nbconvert_exporter": "python",
   "pygments_lexer": "ipython3",
   "version": "3.6.5"
  }
 },
 "nbformat": 4,
 "nbformat_minor": 2
}
