{
 "cells": [
  {
   "cell_type": "code",
   "execution_count": 1,
   "metadata": {},
   "outputs": [],
   "source": [
    "from collections import defaultdict\n",
    "import re\n",
    "import utils\n",
    "\n",
    "data = utils.read_lines('day04_input.txt')\n",
    "data.sort()\n",
    "\n",
    "numbers = []\n",
    "\n",
    "for line in data:\n",
    "    numbers.append((list(map(int, re.findall(r'\\d+', line)))))"
   ]
  },
  {
   "cell_type": "code",
   "execution_count": 2,
   "metadata": {},
   "outputs": [
    {
     "name": "stdout",
     "output_type": "stream",
     "text": [
      "521 24 12504\n"
     ]
    }
   ],
   "source": [
    "total_sleep = defaultdict(int)\n",
    "asleep = False\n",
    "guards = defaultdict(lambda: defaultdict(int))\n",
    "    \n",
    "for i in numbers:\n",
    "    if len(i) == 6:\n",
    "        year, month, day, hour, minute, guard = i\n",
    "    else:\n",
    "        year, month, day, hour, minute = i\n",
    "        if asleep:\n",
    "            for i in range(asleep_at_minute, minute):\n",
    "                guards[guard][i] += 1\n",
    "            total_sleep[guard] += minute - asleep_at_minute\n",
    "        else:\n",
    "            asleep_at_minute = minute\n",
    "        asleep = not asleep            \n",
    "\n",
    "most_sleeping_guard = max(total_sleep.keys(), key=(lambda k: total_sleep[k]))\n",
    "minute_most_asleep = max(guards[most_sleeping_guard].keys(), key=(lambda k: guards[most_sleeping_guard][k]))\n",
    "\n",
    "print(most_sleeping_guard, minute_most_asleep, most_sleeping_guard * minute_most_asleep)"
   ]
  },
  {
   "cell_type": "code",
   "execution_count": 3,
   "metadata": {},
   "outputs": [
    {
     "name": "stdout",
     "output_type": "stream",
     "text": [
      "47 2969 139543\n"
     ]
    }
   ],
   "source": [
    "highest = 0\n",
    "max_guard = 0\n",
    "max_minute = 0\n",
    "\n",
    "for g in guards:\n",
    "    for m in guards[g]:\n",
    "        if guards[g][m] > highest:\n",
    "            highest = guards[g][m]\n",
    "            max_guard, max_minute = g, m\n",
    "                    \n",
    "print(max_minute, max_guard, max_minute*max_guard)"
   ]
  },
  {
   "cell_type": "code",
   "execution_count": null,
   "metadata": {},
   "outputs": [],
   "source": []
  }
 ],
 "metadata": {
  "kernelspec": {
   "display_name": "Python 3",
   "language": "python",
   "name": "python3"
  },
  "language_info": {
   "codemirror_mode": {
    "name": "ipython",
    "version": 3
   },
   "file_extension": ".py",
   "mimetype": "text/x-python",
   "name": "python",
   "nbconvert_exporter": "python",
   "pygments_lexer": "ipython3",
   "version": "3.6.5"
  }
 },
 "nbformat": 4,
 "nbformat_minor": 2
}
