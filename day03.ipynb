{
 "cells": [
  {
   "cell_type": "code",
   "execution_count": 19,
   "metadata": {},
   "outputs": [
    {
     "name": "stdout",
     "output_type": "stream",
     "text": [
      "112378\n",
      "603\n"
     ]
    }
   ],
   "source": [
    "import collections\n",
    "import utils\n",
    "\n",
    "data = utils.read_lines('day03_input.txt')\n",
    "\n",
    "fabric = {}\n",
    "claim_sizes = {}\n",
    "\n",
    "for line in data:\n",
    "    claim_ID, _, coords, dims = line.rstrip().split(' ')\n",
    "    claim_ID = int(claim_ID[1:])\n",
    "    x, y = coords.split(',')\n",
    "    x = int(x)\n",
    "    y = int(y[:-1])\n",
    "    width, height = list(map(int, dims.split('x')))\n",
    "    \n",
    "    claim_sizes[claim_ID] = width * height\n",
    "    \n",
    "    for cx in range(x, x + width):\n",
    "        for cy in range(y, y + height):\n",
    "            if (cx, cy) in fabric:\n",
    "                fabric[(cx, cy)] = 'X'\n",
    "            else:\n",
    "                fabric[(cx, cy)] = claim_ID\n",
    "    \n",
    "print(sum([x == 'X' for x in fabric.values()]))\n",
    "\n",
    "# 2 #\n",
    "counter = collections.Counter(fabric.values())\n",
    "for claim_ID in claim_sizes:\n",
    "    if claim_sizes[claim_ID] == counter[claim_ID]:\n",
    "        print(claim_ID)"
   ]
  },
  {
   "cell_type": "code",
   "execution_count": null,
   "metadata": {},
   "outputs": [],
   "source": [
    "\n",
    "\n"
   ]
  }
 ],
 "metadata": {
  "kernelspec": {
   "display_name": "Python 3",
   "language": "python",
   "name": "python3"
  },
  "language_info": {
   "codemirror_mode": {
    "name": "ipython",
    "version": 3
   },
   "file_extension": ".py",
   "mimetype": "text/x-python",
   "name": "python",
   "nbconvert_exporter": "python",
   "pygments_lexer": "ipython3",
   "version": "3.6.5"
  }
 },
 "nbformat": 4,
 "nbformat_minor": 2
}
