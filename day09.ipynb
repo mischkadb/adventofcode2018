{
 "cells": [
  {
   "cell_type": "code",
   "execution_count": 37,
   "metadata": {},
   "outputs": [
    {
     "name": "stdout",
     "output_type": "stream",
     "text": [
      "429943\n",
      "3615691746\n"
     ]
    }
   ],
   "source": [
    "from collections import deque, defaultdict\n",
    "\n",
    "players = 411\n",
    "\n",
    "def get_max_score(last_marble):\n",
    "    circle = deque([0])\n",
    "    scores = defaultdict(int)\n",
    "    \n",
    "    for marble in range(1, last_marble + 1):\n",
    "        if marble % 23 != 0:\n",
    "            circle.rotate(-1)\n",
    "            circle.append(marble)\n",
    "        else:\n",
    "            circle.rotate(7)\n",
    "            scores[marble % players] += marble + circle.pop()\n",
    "            circle.rotate(-1)\n",
    "            \n",
    "    return max(scores.values())\n",
    "\n",
    "print(get_max_score(72059))\n",
    "print(get_max_score(7205900))"
   ]
  },
  {
   "cell_type": "code",
   "execution_count": null,
   "metadata": {},
   "outputs": [],
   "source": []
  }
 ],
 "metadata": {
  "kernelspec": {
   "display_name": "Python 3",
   "language": "python",
   "name": "python3"
  },
  "language_info": {
   "codemirror_mode": {
    "name": "ipython",
    "version": 3
   },
   "file_extension": ".py",
   "mimetype": "text/x-python",
   "name": "python",
   "nbconvert_exporter": "python",
   "pygments_lexer": "ipython3",
   "version": "3.6.5"
  }
 },
 "nbformat": 4,
 "nbformat_minor": 2
}
