{
 "cells": [
  {
   "cell_type": "code",
   "execution_count": 45,
   "metadata": {},
   "outputs": [
    {
     "name": "stdout",
     "output_type": "stream",
     "text": [
      "GKCNPTVHIRYDUJMSXFBQLOAEWZ\n"
     ]
    }
   ],
   "source": [
    "import utils\n",
    "import string\n",
    "\n",
    "data = utils.read_lines('day07_input.txt')\n",
    "init_reqs = []\n",
    "order = ''\n",
    "\n",
    "for line in data:\n",
    "    init_reqs.append((line.split()[1], line.split()[7]))\n",
    "\n",
    "alph = string.ascii_uppercase\n",
    "reqs = init_reqs\n",
    "\n",
    "while reqs:\n",
    "    new_reqs = []\n",
    "    for c in alph:\n",
    "        found = False\n",
    "        for r in reqs:\n",
    "            if c == r[1]:\n",
    "                found = True\n",
    "        if not found:\n",
    "            order += c\n",
    "            alph = alph.replace(c, '')\n",
    "            for r in reqs:\n",
    "                if c != r[0]:\n",
    "                    new_reqs.append(r)  \n",
    "            break\n",
    "    reqs = new_reqs\n",
    "    \n",
    "order += alph\n",
    "print(order)\n"
   ]
  },
  {
   "cell_type": "code",
   "execution_count": 46,
   "metadata": {},
   "outputs": [
    {
     "name": "stdout",
     "output_type": "stream",
     "text": [
      "1265\n"
     ]
    }
   ],
   "source": [
    "reqs = init_reqs\n",
    "\n",
    "alph = string.ascii_uppercase\n",
    "# 5 workers, each worker is a list of [step being worked on, the second it will be finished]\n",
    "workers = [[], [], [], [], []]\n",
    "seconds = 0\n",
    "\n",
    "while reqs:\n",
    "    new_reqs = []\n",
    "    \n",
    "    cur_workers = workers\n",
    "    for i, w in enumerate(workers):\n",
    "        if w and w[1] == seconds:\n",
    "            for r in reqs:\n",
    "                if w[0] != r[0]:\n",
    "                    new_reqs.append(r)                    \n",
    "            reqs = new_reqs  \n",
    "            cur_workers[i] = []\n",
    "    workers = cur_workers\n",
    "    \n",
    "    for c in alph:\n",
    "        found = False\n",
    "        for r in reqs:\n",
    "            if c == r[1]:\n",
    "                found = True\n",
    "        if not found:\n",
    "            cur_workers = workers\n",
    "            for i, w in enumerate(workers):\n",
    "                if not w:\n",
    "                    cur_workers[i] = [c, seconds+60+ord(c)-64]\n",
    "                    alph = alph.replace(c, '')\n",
    "                    break\n",
    "            workers = cur_workers\n",
    "    seconds += 1\n",
    "\n",
    "for w in workers:\n",
    "    if w:\n",
    "        print(w[1])\n"
   ]
  },
  {
   "cell_type": "code",
   "execution_count": null,
   "metadata": {},
   "outputs": [],
   "source": []
  }
 ],
 "metadata": {
  "kernelspec": {
   "display_name": "Python 3",
   "language": "python",
   "name": "python3"
  },
  "language_info": {
   "codemirror_mode": {
    "name": "ipython",
    "version": 3
   },
   "file_extension": ".py",
   "mimetype": "text/x-python",
   "name": "python",
   "nbconvert_exporter": "python",
   "pygments_lexer": "ipython3",
   "version": "3.6.5"
  }
 },
 "nbformat": 4,
 "nbformat_minor": 2
}
