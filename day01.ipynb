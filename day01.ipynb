{
 "cells": [
  {
   "cell_type": "code",
   "execution_count": 2,
   "metadata": {},
   "outputs": [
    {
     "name": "stdout",
     "output_type": "stream",
     "text": [
      "518\n"
     ]
    }
   ],
   "source": [
    "import itertools\n",
    "import utils\n",
    "\n",
    "data = utils.read_lines('day01_input.txt')\n",
    "\n",
    "print(sum([ins for ins in map(int, data)]))"
   ]
  },
  {
   "cell_type": "code",
   "execution_count": 3,
   "metadata": {},
   "outputs": [
    {
     "name": "stdout",
     "output_type": "stream",
     "text": [
      "72889\n"
     ]
    }
   ],
   "source": [
    "freq = 0\n",
    "freqs = set()\n",
    "\n",
    "for ins in itertools.cycle(map(int, data)):\n",
    "    freq += ins\n",
    "    if freq not in freqs:\n",
    "        freqs.add(freq)\n",
    "    else:\n",
    "        print(freq)\n",
    "        break"
   ]
  },
  {
   "cell_type": "code",
   "execution_count": null,
   "metadata": {},
   "outputs": [],
   "source": []
  }
 ],
 "metadata": {
  "kernelspec": {
   "display_name": "Python 3",
   "language": "python",
   "name": "python3"
  },
  "language_info": {
   "codemirror_mode": {
    "name": "ipython",
    "version": 3
   },
   "file_extension": ".py",
   "mimetype": "text/x-python",
   "name": "python",
   "nbconvert_exporter": "python",
   "pygments_lexer": "ipython3",
   "version": "3.6.5"
  }
 },
 "nbformat": 4,
 "nbformat_minor": 2
}
