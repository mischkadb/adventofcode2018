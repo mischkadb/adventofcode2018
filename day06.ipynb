{
 "cells": [
  {
   "cell_type": "code",
   "execution_count": 63,
   "metadata": {},
   "outputs": [
    {
     "name": "stdout",
     "output_type": "stream",
     "text": [
      "3010\n"
     ]
    }
   ],
   "source": [
    "from collections import defaultdict\n",
    "import utils\n",
    "\n",
    "data = utils.read_lines('day06_input.txt')\n",
    "\n",
    "coords = []\n",
    "infinite = set()\n",
    "grid = {}\n",
    "sizes = defaultdict(int)\n",
    "\n",
    "for line in data:\n",
    "    x, y = map(int, line.split(', '))\n",
    "    coords.append([x, y])\n",
    "\n",
    "min_x = min([sublist[0] for sublist in coords])\n",
    "max_x = max([sublist[0] for sublist in coords])\n",
    "min_y = min([sublist[1] for sublist in coords])\n",
    "max_y = max([sublist[1] for sublist in coords])\n",
    "            \n",
    "for x in range(min_x-150, max_x+150):\n",
    "    for y in range(min_y-150, max_y+150):\n",
    "        max_manhattan = 1000000\n",
    "        min_coords = (0, 0)\n",
    "        for i, (c1, c2) in enumerate(coords):\n",
    "            manhattan = abs(x-c1) + abs(y-c2)\n",
    "            if manhattan < max_manhattan:\n",
    "                grid[(x, y)] = i+1\n",
    "                max_manhattan = manhattan\n",
    "                min_coords = (c1, c2)\n",
    "            elif manhattan == max_manhattan:\n",
    "                grid[(x, y)] = 0\n",
    "                min_coords = (0, 0)\n",
    "        if x in [min_x, max_x+1] or y in [min_y, max_y+1]:\n",
    "            infinite.add(min_coords)\n",
    "        sizes[min_coords] += 1\n",
    "            \n",
    "print(max(sizes[x] for x in sizes if x not in infinite))"
   ]
  },
  {
   "cell_type": "code",
   "execution_count": 64,
   "metadata": {},
   "outputs": [
    {
     "name": "stdout",
     "output_type": "stream",
     "text": [
      "48034\n"
     ]
    }
   ],
   "source": [
    "total = 0\n",
    "\n",
    "for x in range(min_x-150, max_x+150):\n",
    "    for y in range(min_y-150, max_y+150):\n",
    "        manhattan = 0\n",
    "        for i, (c1, c2) in enumerate(coords):\n",
    "            manhattan += abs(x-c1) + abs(y-c2)\n",
    "\n",
    "        if manhattan < 10000:\n",
    "            total += 1\n",
    "            \n",
    "print(total)"
   ]
  },
  {
   "cell_type": "code",
   "execution_count": null,
   "metadata": {},
   "outputs": [],
   "source": []
  }
 ],
 "metadata": {
  "kernelspec": {
   "display_name": "Python 3",
   "language": "python",
   "name": "python3"
  },
  "language_info": {
   "codemirror_mode": {
    "name": "ipython",
    "version": 3
   },
   "file_extension": ".py",
   "mimetype": "text/x-python",
   "name": "python",
   "nbconvert_exporter": "python",
   "pygments_lexer": "ipython3",
   "version": "3.6.5"
  }
 },
 "nbformat": 4,
 "nbformat_minor": 2
}
