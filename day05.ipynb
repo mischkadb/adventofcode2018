{
 "cells": [
  {
   "cell_type": "code",
   "execution_count": 65,
   "metadata": {},
   "outputs": [
    {
     "name": "stdout",
     "output_type": "stream",
     "text": [
      "11946\n"
     ]
    }
   ],
   "source": [
    "import utils\n",
    "import string\n",
    "\n",
    "data = utils.read_line('day05_input.txt')\n",
    "\n",
    "def polymer_reduction(polymer):\n",
    "    old_polymer = ''\n",
    "    while polymer != old_polymer:\n",
    "        old_polymer = polymer\n",
    "        for c in string.ascii_lowercase:        \n",
    "            polymer = polymer.replace(c + c.upper(), '')\n",
    "            polymer = polymer.replace(c.upper() + c, '')\n",
    "        \n",
    "    return len(polymer)\n",
    "    \n",
    "print(polymer_reduction(data))        "
   ]
  },
  {
   "cell_type": "code",
   "execution_count": 66,
   "metadata": {},
   "outputs": [
    {
     "name": "stdout",
     "output_type": "stream",
     "text": [
      "4240\n"
     ]
    }
   ],
   "source": [
    "polymer_lengths = []\n",
    "\n",
    "for c in string.ascii_lowercase:\n",
    "    polymer_cleaned = data.replace(c, '')\n",
    "    polymer_cleaned = polymer_cleaned.replace(c.upper(), '')\n",
    "    \n",
    "    polymer_lengths.append(polymer_reduction(polymer_cleaned))\n",
    "    \n",
    "print(min(polymer_lengths))"
   ]
  },
  {
   "cell_type": "code",
   "execution_count": null,
   "metadata": {},
   "outputs": [],
   "source": []
  },
  {
   "cell_type": "code",
   "execution_count": null,
   "metadata": {},
   "outputs": [],
   "source": []
  }
 ],
 "metadata": {
  "kernelspec": {
   "display_name": "Python 3",
   "language": "python",
   "name": "python3"
  },
  "language_info": {
   "codemirror_mode": {
    "name": "ipython",
    "version": 3
   },
   "file_extension": ".py",
   "mimetype": "text/x-python",
   "name": "python",
   "nbconvert_exporter": "python",
   "pygments_lexer": "ipython3",
   "version": "3.6.5"
  }
 },
 "nbformat": 4,
 "nbformat_minor": 2
}
